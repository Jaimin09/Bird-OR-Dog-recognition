{
 "cells": [
  {
   "cell_type": "code",
   "execution_count": 49,
   "metadata": {},
   "outputs": [],
   "source": [
    "import numpy as np\n",
    "import matplotlib.pyplot as plt\n",
    "import random\n",
    "import time"
   ]
  },
  {
   "cell_type": "markdown",
   "metadata": {},
   "source": [
    "# Loading csv type data"
   ]
  },
  {
   "cell_type": "code",
   "execution_count": 3,
   "metadata": {},
   "outputs": [],
   "source": [
    "X = np.loadtxt('data_1000.csv', delimiter = ',')\n",
    "Y = np.loadtxt('label_1000.csv', delimiter= ',').reshape(1000, 1)\n",
    "\n",
    "X = X.T\n",
    "Y = Y.T"
   ]
  },
  {
   "cell_type": "code",
   "execution_count": 4,
   "metadata": {},
   "outputs": [
    {
     "name": "stdout",
     "output_type": "stream",
     "text": [
      "(3072, 1000) (1, 1000)\n"
     ]
    }
   ],
   "source": [
    "print(X.shape, Y.shape)"
   ]
  },
  {
   "cell_type": "code",
   "execution_count": 5,
   "metadata": {},
   "outputs": [
    {
     "name": "stdout",
     "output_type": "stream",
     "text": [
      "[[ 81. 207. 101. ...  62. 227. 131.]\n",
      " [ 78. 210. 104. ...  67. 230.  99.]\n",
      " [ 79. 209. 111. ...  59. 233.  38.]\n",
      " ...\n",
      " [ 77. 108.  33. ... 116.  21. 207.]\n",
      " [ 68. 117.  28. ... 109.  23. 207.]\n",
      " [ 88. 126.  22. ... 109.  22. 201.]]\n"
     ]
    }
   ],
   "source": [
    "print(X)"
   ]
  },
  {
   "cell_type": "markdown",
   "metadata": {},
   "source": [
    "# Sigmoid and initialization with zeros"
   ]
  },
  {
   "cell_type": "code",
   "execution_count": 6,
   "metadata": {},
   "outputs": [],
   "source": [
    "def sigmoid(z):\n",
    "    s = 1/(1+ np.exp(-z))\n",
    "    return s"
   ]
  },
  {
   "cell_type": "code",
   "execution_count": 7,
   "metadata": {},
   "outputs": [],
   "source": [
    "w = np.zeros((Y.shape[0], X.shape[0]))\n",
    "b = 0"
   ]
  },
  {
   "cell_type": "markdown",
   "metadata": {},
   "source": [
    "# Cost Function"
   ]
  },
  {
   "cell_type": "code",
   "execution_count": 8,
   "metadata": {},
   "outputs": [],
   "source": [
    "def compute_cost(w,b,x, y):\n",
    "    m = x.shape[1]\n",
    "    z = np.dot(w, X) + b\n",
    "    a = sigmoid(z)\n",
    "    cost = -(1/m)*np.sum(y*np.log(a) + (1-y)*np.log(1-a))\n",
    "    dw =  (1/m)*np.dot((a-y), X.T)\n",
    "    db = (1/m)*np.sum((a - y), axis = 1, keepdims = True)\n",
    "    \n",
    "    return cost, dw, db"
   ]
  },
  {
   "cell_type": "markdown",
   "metadata": {},
   "source": [
    "# Gradient"
   ]
  },
  {
   "cell_type": "code",
   "execution_count": 9,
   "metadata": {},
   "outputs": [],
   "source": [
    "def grad(w, b, x, y, learning_rate, iterations):\n",
    "\n",
    "    cost_list = []\n",
    "    for i in range(iterations + 1):\n",
    "        cost, dw, db = compute_cost(w, b, x, y)\n",
    "        w = w - learning_rate*dw\n",
    "        b = b - learning_rate*db\n",
    "        cost_list.append(cost)\n",
    "        \n",
    "        if i%(iterations/10) == 0 :\n",
    "            print(\"Cost after \", i ,\"iterations is \", cost)\n",
    "    \n",
    "    return w, b, cost_list"
   ]
  },
  {
   "cell_type": "markdown",
   "metadata": {},
   "source": [
    "# Model implementation"
   ]
  },
  {
   "cell_type": "code",
   "execution_count": 28,
   "metadata": {},
   "outputs": [
    {
     "name": "stdout",
     "output_type": "stream",
     "text": [
      "Cost after  0 iterations is  0.6931471805599454\n",
      "Cost after  5000 iterations is  0.4479380424900573\n",
      "Cost after  10000 iterations is  0.40375031708326525\n",
      "Cost after  15000 iterations is  0.3745075060178065\n",
      "Cost after  20000 iterations is  0.35207901724545626\n",
      "Cost after  25000 iterations is  0.33371139174371606\n",
      "Cost after  30000 iterations is  0.3181050826929489\n",
      "Cost after  35000 iterations is  0.304526302031784\n",
      "Cost after  40000 iterations is  0.2925117112228759\n",
      "Cost after  45000 iterations is  0.28174574874729297\n",
      "Cost after  50000 iterations is  0.27200173537789557\n",
      "\n",
      "Time taken is 6.033932912349701 minutes\n"
     ]
    }
   ],
   "source": [
    "iter = 50000\n",
    "starttime = time.time()\n",
    "W, B, Cost_listt = grad(w, b, X, Y, learning_rate = 0.0000001, iterations = iter)\n",
    "endtime = time.time()\n",
    "times = endtime - starttime\n",
    "mintimes = times/60\n",
    "if times > 200:\n",
    "    print(\"\\nTime taken is\", mintimes, \"minutes\")\n",
    "else :\n",
    "    print(\"\\nTime taken is\", times, \"seconds\")"
   ]
  },
  {
   "cell_type": "markdown",
   "metadata": {},
   "source": [
    "# Ploting Cost function v/s Iterations"
   ]
  },
  {
   "cell_type": "code",
   "execution_count": 29,
   "metadata": {},
   "outputs": [
    {
     "data": {
      "image/png": "[encoded data removed]",
      "text/plain": [
       "<Figure size 432x288 with 1 Axes>"
      ]
     },
     "metadata": {},
     "output_type": "display_data"
    }
   ],
   "source": [
    "t = np.arange(0, iter+1)\n",
    "plt.plot(t, Cost_listt)\n",
    "\n",
    "plt.xlabel('Iterations')\n",
    "plt.ylabel('Cost')\n",
    "plt.title('Cost Function v/s Iterations')\n",
    "plt.show()"
   ]
  },
  {
   "cell_type": "markdown",
   "metadata": {},
   "source": [
    "# Accuracy"
   ]
  },
  {
   "cell_type": "code",
   "execution_count": 30,
   "metadata": {},
   "outputs": [],
   "source": [
    "z_prob = np.dot(W, X) + B\n",
    "a_pred = sigmoid(z_prob)\n",
    "y_pred = a_pred > 0.5\n",
    "y_pred = np.array(y_pred)"
   ]
  },
  {
   "cell_type": "code",
   "execution_count": 38,
   "metadata": {},
   "outputs": [
    {
     "name": "stdout",
     "output_type": "stream",
     "text": [
      "Train Accuracy: 91.2 %\n"
     ]
    }
   ],
   "source": [
    "print(\"Train Accuracy:\",np.mean(y_pred == Y)*100, \"%\")"
   ]
  },
  {
   "cell_type": "markdown",
   "metadata": {},
   "source": [
    "# Test Data"
   ]
  },
  {
   "cell_type": "code",
   "execution_count": 32,
   "metadata": {},
   "outputs": [],
   "source": [
    "X_t = np.loadtxt('test_data.csv', delimiter = ',').T\n",
    "Y_t = np.loadtxt('test_label.csv', delimiter = ',')     # shape = (300,)"
   ]
  },
  {
   "cell_type": "code",
   "execution_count": 34,
   "metadata": {},
   "outputs": [],
   "source": [
    "a_pred_t = np.dot(W, X_t) + B\n",
    "y_pred_t = a_pred_t > 0.5"
   ]
  },
  {
   "cell_type": "code",
   "execution_count": 46,
   "metadata": {},
   "outputs": [
    {
     "name": "stdout",
     "output_type": "stream",
     "text": [
      "Our Test accuracy is 72.33 % - futher training the model wont increase test accuracy much\n"
     ]
    }
   ],
   "source": [
    "accuracy = np.mean( y_pred_t == Y_t)*100\n",
    "print(\"Our Test accuracy is %.2f\" %accuracy, \"% - futher training the model wont increase test accuracy much\")\n",
    "\n",
    "y_pred_test = []\n",
    "for i in range(y_pred_t.shape[1]):\n",
    "    if a_pred_t[:, i] > 0.5:\n",
    "        y_pred_test.append('dog')\n",
    "    else:\n",
    "        y_pred_test.append('bird')\n",
    "y_pred_test = np.array(y_pred_test).reshape(a_pred_t.shape[1],1)\n",
    "#print(y_pred_test)         #This will print the predicted labels for test set"
   ]
  },
  {
   "cell_type": "code",
   "execution_count": null,
   "metadata": {},
   "outputs": [],
   "source": []
  }
 ],
 "metadata": {
  "kernelspec": {
   "display_name": "Python 3",
   "language": "python",
   "name": "python3"
  },
  "language_info": {
   "codemirror_mode": {
    "name": "ipython",
    "version": 3
   },
   "file_extension": ".py",
   "mimetype": "text/x-python",
   "name": "python",
   "nbconvert_exporter": "python",
   "pygments_lexer": "ipython3",
   "version": "3.6.0"
  }
 },
 "nbformat": 4,
 "nbformat_minor": 2
}

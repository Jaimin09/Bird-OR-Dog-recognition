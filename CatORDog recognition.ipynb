{
 "cells": [
  {
   "cell_type": "code",
   "execution_count": 1,
   "metadata": {},
   "outputs": [
    {
     "name": "stderr",
     "output_type": "stream",
     "text": [
      "Using TensorFlow backend.\n"
     ]
    }
   ],
   "source": [
    "import numpy as np\n",
    "import matplotlib.pyplot as plt\n",
    "import tensorflow as tf\n",
    "import time\n",
    "import random\n",
    "import keras"
   ]
  },
  {
   "cell_type": "code",
   "execution_count": 3,
   "metadata": {},
   "outputs": [],
   "source": [
    "from keras import layers, optimizers\n",
    "from keras.layers import Input, Dense, Activation, ZeroPadding2D, BatchNormalization, Flatten, Conv2D\n",
    "from keras.layers import AveragePooling2D, MaxPooling2D, Dropout, GlobalMaxPooling2D, GlobalAveragePooling2D\n",
    "from keras.models import Model\n",
    "from IPython.display import SVG\n",
    "from keras.utils.vis_utils import model_to_dot"
   ]
  },
  {
   "cell_type": "markdown",
   "metadata": {},
   "source": [
    "# Loading test and train datasets"
   ]
  },
  {
   "cell_type": "code",
   "execution_count": 6,
   "metadata": {},
   "outputs": [],
   "source": [
    "X = np.loadtxt('data_1000.csv', delimiter = ',').reshape(1000, 32, 32, 3)\n",
    "Y = np.loadtxt('label_1000.csv', delimiter = ',').reshape(X.shape[0],1)\n",
    "\n",
    "X_t = np.loadtxt('test_data.csv', delimiter = ',').reshape(X_t.shape[0], 32, 32, 3)\n",
    "Y_t = np.loadtxt('test_label.csv', delimiter = ',').reshape(X_t.shape[0],1)"
   ]
  },
  {
   "cell_type": "code",
   "execution_count": 7,
   "metadata": {},
   "outputs": [
    {
     "name": "stdout",
     "output_type": "stream",
     "text": [
      "(1000, 32, 32, 3) (1000, 1) (300, 32, 32, 3) (300, 1)\n"
     ]
    }
   ],
   "source": [
    "print(X.shape, Y.shape, X_t.shape, Y_t.shape)"
   ]
  },
  {
   "cell_type": "markdown",
   "metadata": {},
   "source": [
    "# Model"
   ]
  },
  {
   "cell_type": "code",
   "execution_count": 8,
   "metadata": {},
   "outputs": [],
   "source": [
    "def model(input_shape):\n",
    "    X_input = Input(input_shape)\n",
    "    #X = ZeroPadding2D((3,3))(X_input)\n",
    "    \n",
    "    X = Conv2D(64, (3,3), strides = (1,1), name = 'conv0')(X_input)\n",
    "    X = BatchNormalization(axis = 3, name = 'bn0')(X)\n",
    "    X = Activation('relu')(X)\n",
    "    X = MaxPooling2D((2,2), name = 'maxpool0')(X)\n",
    "    \n",
    "    X = Conv2D(32, (3,3), strides = (1,1), name = 'conv1')(X)\n",
    "    X = BatchNormalization(axis = 3, name = 'bn1')(X)\n",
    "    X = Activation('relu')(X)\n",
    "    X = MaxPooling2D((2,2), name = 'maxpool1')(X)\n",
    "    \n",
    "    X = Conv2D(16, (3,3), strides = (1,1), name = 'conv2')(X)\n",
    "    X = BatchNormalization(axis = 3, name = 'bn2')(X)\n",
    "    X = Activation('relu')(X)\n",
    "    X = MaxPooling2D((2,2), name = 'maxpool2')(X)\n",
    "    \n",
    "    X = Flatten()(X)\n",
    "    X = Dense(1, activation = 'sigmoid', name = 'fc')(X)\n",
    "    \n",
    "    model = Model(inputs = X_input, outputs = X, name = 'model')\n",
    "    \n",
    "    return model"
   ]
  },
  {
   "cell_type": "markdown",
   "metadata": {},
   "source": [
    "# Calling model - From here it starts learning"
   ]
  },
  {
   "cell_type": "code",
   "execution_count": 9,
   "metadata": {},
   "outputs": [],
   "source": [
    "obj_model = model(X.shape[1:])"
   ]
  },
  {
   "cell_type": "markdown",
   "metadata": {},
   "source": [
    "#  Calling optimizer, loss"
   ]
  },
  {
   "cell_type": "code",
   "execution_count": 10,
   "metadata": {},
   "outputs": [],
   "source": [
    "sgd = optimizers.SGD(lr = 0.1, momentum= 0, decay = 0)\n",
    "adam = optimizers.adam(lr = 0.001)\n",
    "obj_model.compile(optimizer = adam, loss = 'mean_squared_error', metrics = ['accuracy'])"
   ]
  },
  {
   "cell_type": "code",
   "execution_count": 11,
   "metadata": {},
   "outputs": [
    {
     "name": "stdout",
     "output_type": "stream",
     "text": [
      "Epoch 1/5\n",
      "1000/1000 [==============================] - 23s 23ms/step - loss: 0.2115 - acc: 0.6700\n",
      "Epoch 2/5\n",
      "1000/1000 [==============================] - 22s 22ms/step - loss: 0.1608 - acc: 0.7740\n",
      "Epoch 3/5\n",
      "1000/1000 [==============================] - 22s 22ms/step - loss: 0.1370 - acc: 0.8360\n",
      "Epoch 4/5\n",
      "1000/1000 [==============================] - 22s 22ms/step - loss: 0.1119 - acc: 0.8650\n",
      "Epoch 5/5\n",
      "1000/1000 [==============================] - 22s 22ms/step - loss: 0.0942 - acc: 0.9070\n"
     ]
    }
   ],
   "source": [
    "object_model = obj_model.fit(x = X, y = Y, epochs = 5, batch_size = 64)"
   ]
  },
  {
   "cell_type": "markdown",
   "metadata": {},
   "source": [
    "# Plottting Model"
   ]
  },
  {
   "cell_type": "code",
   "execution_count": 12,
   "metadata": {},
   "outputs": [
    {
     "data": {
      "image/png": "[encoded data removed]",
      "text/plain": [
       "<Figure size 432x288 with 1 Axes>"
      ]
     },
     "metadata": {},
     "output_type": "display_data"
    }
   ],
   "source": [
    "plt.plot(object_model.history['loss'])\n",
    "plt.title('loss vs epoch')\n",
    "plt.xlabel('epochs')\n",
    "plt.ylabel('loss')\n",
    "plt.show()"
   ]
  },
  {
   "cell_type": "markdown",
   "metadata": {},
   "source": [
    "# Test accuracy"
   ]
  },
  {
   "cell_type": "code",
   "execution_count": 13,
   "metadata": {},
   "outputs": [
    {
     "name": "stdout",
     "output_type": "stream",
     "text": [
      "300/300 [==============================] - 3s 9ms/step\n",
      "Our test accuracy is 75.33\n"
     ]
    }
   ],
   "source": [
    "preds = obj_model.evaluate(x = X_t, y = Y_t)\n",
    "t_acc = preds[1]*100\n",
    "print(\"Our test accuracy is %.2f\" %t_acc)"
   ]
  },
  {
   "cell_type": "markdown",
   "metadata": {},
   "source": [
    "# Testing your own image"
   ]
  },
  {
   "cell_type": "code",
   "execution_count": 232,
   "metadata": {},
   "outputs": [
    {
     "name": "stdout",
     "output_type": "stream",
     "text": [
      "[[ True]]\n"
     ]
    },
    {
     "data": {
      "image/png": "[encoded data removed]",
      "text/plain": [
       "<Figure size 432x288 with 1 Axes>"
      ]
     },
     "metadata": {},
     "output_type": "display_data"
    }
   ],
   "source": [
    "from keras.preprocessing import image\n",
    "from keras.applications.imagenet_utils import preprocess_input\n",
    "\n",
    "img_path = 'dog1.jpg'\n",
    "img = image.load_img(img_path, target_size=(32,32))\n",
    "plt.imshow(img)\n",
    "\n",
    "x = image.img_to_array(img)\n",
    "x = np.expand_dims(x, axis=0)\n",
    "x = preprocess_input(x)\n",
    "\n",
    "y_prob = obj_model.predict(x)\n",
    "y_classes = y_prob > 0.5\n",
    "print(y_classes)         # False = bird, True = dog"
   ]
  },
  {
   "cell_type": "markdown",
   "metadata": {},
   "source": [
    "# Conclusion:\n",
    "- Adam is working really well, becoz of high learning speed and better accuracy\n",
    "- Increasing the number of filter size results in better test as well as train performance.\n",
    "- Gradually decreasing the number of filters works really well in performance of test set.\n",
    "- Convolutional Neural Network (with Adam) is much faster than logistic regression and thus much faster than NN."
   ]
  },
  {
   "cell_type": "code",
   "execution_count": null,
   "metadata": {},
   "outputs": [],
   "source": []
  }
 ],
 "metadata": {
  "kernelspec": {
   "display_name": "Python 3",
   "language": "python",
   "name": "python3"
  },
  "language_info": {
   "codemirror_mode": {
    "name": "ipython",
    "version": 3
   },
   "file_extension": ".py",
   "mimetype": "text/x-python",
   "name": "python",
   "nbconvert_exporter": "python",
   "pygments_lexer": "ipython3",
   "version": "3.6.0"
  }
 },
 "nbformat": 4,
 "nbformat_minor": 2
}
